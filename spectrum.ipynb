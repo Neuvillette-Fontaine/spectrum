{
 "cells": [
  {
   "cell_type": "code",
   "execution_count": 11,
   "id": "e75f8a59",
   "metadata": {},
   "outputs": [],
   "source": [
    "import numpy as np\n",
    "import matplotlib.pyplot as plt"
   ]
  },
  {
   "cell_type": "code",
   "execution_count": 12,
   "id": "240792c8",
   "metadata": {},
   "outputs": [],
   "source": [
    "def loadDatadet(infile):\n",
    "    f=open(infile,'r')\n",
    "    sourceInLine=f.readlines()\n",
    "    dataset=[]\n",
    "    for line in sourceInLine:\n",
    "        if not line.startswith('#'):\n",
    "            temp1=line.strip('\\n')\n",
    "            #print('temp1=',temp1)\n",
    "            temp2=temp1.strip('\\t')\n",
    "            temp3=temp2.strip(' ')\n",
    "            #print('temp2=',temp2)\n",
    "            temp4=temp3.split(' ')\n",
    "            dataset.append(temp4)\n",
    "    return dataset"
   ]
  },
  {
   "cell_type": "code",
   "execution_count": 31,
   "id": "561590af",
   "metadata": {},
   "outputs": [],
   "source": [
    "data=loadDatadet('output994291443684.dat')"
   ]
  },
  {
   "cell_type": "code",
   "execution_count": 32,
   "id": "2207f09d",
   "metadata": {},
   "outputs": [
    {
     "name": "stdout",
     "output_type": "stream",
     "text": [
      "['0.0005877', '-1.42180', '9.09691', '0.0900000036', '1.0816895926', '0.090', '-3.184', '3.4709', '5.412', '0', '0.000', '0.545', '0.00', '0.00', '0.00', '0.00', '0.00', '-1', '-5.43e-17', '0.00', '7.499e-01', '2.495e-01', '1.109e-04', '2.991e-05', '2.713e-04', '-1.000', '6.165e-04', '12.730', '20.296', '17.537', '15.529', '13.775', '12.085', '10.721', '10.391', '10.279']\n"
     ]
    }
   ],
   "source": [
    "g=list(filter(None, data[0]))\n",
    "print(g)"
   ]
  },
  {
   "cell_type": "code",
   "execution_count": 33,
   "id": "ef7ef0ce",
   "metadata": {},
   "outputs": [
    {
     "name": "stdout",
     "output_type": "stream",
     "text": [
      "392\n",
      "392\n"
     ]
    }
   ],
   "source": [
    "logTe=[]\n",
    "logg=[]\n",
    "for i in range(len(data)):\n",
    "    data_tem=list(filter(None, data[i]))\n",
    "    logTe.append(float(data_tem[7]))\n",
    "    logg.append(float(data_tem[8]))\n",
    "\n",
    "# print(x1)\n",
    "# print(y1)\n",
    "# print(mag1)\n",
    "print(len(logTe))\n",
    "print(len(logg))"
   ]
  },
  {
   "cell_type": "code",
   "execution_count": 45,
   "id": "ddce7e51",
   "metadata": {},
   "outputs": [
    {
     "data": {
      "image/png": "[encoded data removed]",
      "text/plain": [
       "<Figure size 432x288 with 1 Axes>"
      ]
     },
     "metadata": {
      "needs_background": "light"
     },
     "output_type": "display_data"
    }
   ],
   "source": [
    "plt.scatter(logTe,logg,s=10)\n",
    "plt.ylim(6,0)\n",
    "plt.xlim(4.1,3.5)\n",
    "plt.xlabel(\"logTe\")\n",
    "plt.ylabel(\"logg\")\n",
    "plt.axvline(3.6585,color=\"r\")    #竖直线\n",
    "plt.axhline(1.162,color=\"r\")    #水平线\n",
    "plt.show()"
   ]
  },
  {
   "cell_type": "code",
   "execution_count": 42,
   "id": "79ab0ddb",
   "metadata": {},
   "outputs": [
    {
     "name": "stdout",
     "output_type": "stream",
     "text": [
      "3.657655664046898\n"
     ]
    }
   ],
   "source": [
    "a=np.log10(4546.2746)\n",
    "print(a)"
   ]
  },
  {
   "cell_type": "code",
   "execution_count": 44,
   "id": "53100913",
   "metadata": {},
   "outputs": [
    {
     "name": "stdout",
     "output_type": "stream",
     "text": [
      "3.6567\n",
      "4.854\n",
      "3.6582\n",
      "4.852\n",
      "3.6585\n",
      "1.162\n"
     ]
    }
   ],
   "source": [
    "\n",
    "for i in range(len(logTe)):\n",
    "    b=(abs(logTe[i]-a))\n",
    "    if b<0.001:\n",
    "        print(logTe[i])\n",
    "        print(logg[i])\n"
   ]
  },
  {
   "cell_type": "code",
   "execution_count": null,
   "id": "a7701dc0",
   "metadata": {},
   "outputs": [],
   "source": []
  }
 ],
 "metadata": {
  "kernelspec": {
   "display_name": "Python 3 (ipykernel)",
   "language": "python",
   "name": "python3"
  },
  "language_info": {
   "codemirror_mode": {
    "name": "ipython",
    "version": 3
   },
   "file_extension": ".py",
   "mimetype": "text/x-python",
   "name": "python",
   "nbconvert_exporter": "python",
   "pygments_lexer": "ipython3",
   "version": "3.9.12"
  }
 },
 "nbformat": 4,
 "nbformat_minor": 5
}
